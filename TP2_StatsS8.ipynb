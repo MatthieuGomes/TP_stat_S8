{
 "cells": [
  {
   "cell_type": "markdown",
   "id": "13271788",
   "metadata": {},
   "source": [
    "# TP2 : Tests d'hypothèses"
   ]
  },
  {
   "cell_type": "markdown",
   "id": "7eaa60ea",
   "metadata": {},
   "source": [
    "## Travail en séance"
   ]
  },
  {
   "cell_type": "code",
   "execution_count": 223,
   "id": "f26490a6",
   "metadata": {},
   "outputs": [],
   "source": [
    "import numpy as np\n",
    "import matplotlib.pyplot as plt\n",
    "from scipy.integrate import quad\n",
    "from scipy.special import erf"
   ]
  },
  {
   "cell_type": "markdown",
   "id": "aef21cdd",
   "metadata": {},
   "source": [
    "### Adéquation à une loi normale"
   ]
  },
  {
   "cell_type": "code",
   "execution_count": 224,
   "id": "4d1dd357",
   "metadata": {},
   "outputs": [],
   "source": [
    "data=np.array([5.5,3,13.7,13,18,11.9,9.4,10.5,15.9,9.8,8.4,8.7,18,12.7,9.4,\n",
    "      14.4,7.3,9.3,7.7,8.4,11.2,5.5,8,11.6,6.2,5.2,18.7,9.1,13.7,\n",
    "      9.1,8.4,9.4,6.9,8.7,11.2,8.7,5.9,8.7,9.8,19.6,9.6,14.1,9.1,13.7,\n",
    "      6.9,8.7,7.3,9.6,13,13.5,15.2,15.7,14.4,8,9.4,6.6,10.9,8.4,9.8,18,\n",
    "      10,18,19.3,4.1,9.8,17.3,13.7,11.6,6.6,6.9,11.9,19.9,9.8,8.4,15.2,\n",
    "      11.4,7.7,11.9,12.3,12.7,19.9,8,11.9,13,14.3,14.4,16.6,14.1,9.4,13.7,\n",
    "      12.7,9.8,8.4,7.7,11,6.9,4.4,10.3,18.4,8.5,11.2,13,19.9,10.7,8,13.7,\n",
    "      19.8,10.5,13.7,3.4,5.9,4.3,8.7,10.9,11.2,9.8,9.8,10.3,6.6,12.3,7.7,\n",
    "      10.5,11.6,8.7,8,7.7,4.4,11.6,8,9.6,9.1,12.1,10.2,13.7,12.7,13,12.3,\n",
    "      8.4,7.3,9.6,8,9.8,7.3,14.8,7.7,9.4,13.2,9.8,13,8.7,16.9,12.3,8.7,11.6,\n",
    "      8.4,5.2,19.9,12.1,8,9.3,13.7,6.6,13.4,5.5,8.7,6.6,12.3,12.7,10.9,7.3,\n",
    "      8.4,19.9,8.7,9.4,16.9,18.4,11.8,7.7,8,6.2,15.2,11.9,11.6,7.7,11.2,9.1,\n",
    "      9.8,13.4,11.2,19.9,6.8,8.2,18.4,14.4,10.9,9.8,17.3,14.3,8,13,19.9,19.9,\n",
    "      19.9,19.14,18.55,18.55,18.42,18.29,18.22,18.16,17.83,17.63,17.63,17.37,\n",
    "      17.24,16.84,16.32,16.18,16.18,16.18,16.05,15.92,15.92,15.79,15.79,15.66,\n",
    "      15.66,15.66,15.66,15.66,15.53,15.53,15.39,15.39,15.39,15.39,15.26,15.13,\n",
    "      15.13,15,15,15,15,14.93,14.87,14.74,14.74,14.61,14.61,14.61,14.61,14.34,\n",
    "      14.21,14.21,14.08,14.08,14.08,14.08,14.08,13.95,13.82,13.82,13.82,13.68,\n",
    "      13.62,13.55,13.42,13.42,13.42,13.29,13.16,13.16,13.16,12.89,12.89,12.89,\n",
    "      12.89,12.89,12.89,12.76,12.76,12.76,12.76,12.63,12.5,12.5,12.5,12.5,12.43,\n",
    "      12.37,12.37,12.37,12.24,12.24,12.24,12.24,12.24,12.24,12.11,12.11,12.11,\n",
    "      12.11,11.97,11.97,11.84,11.84,11.84,11.84,11.84,11.58,11.58,11.58,11.58,\n",
    "      11.58,11.45,11.45,11.25,11.25,11.25,11.18,11.18,11.05,11.05,10.92,10.92,\n",
    "      10.83,10.79,10.79,10.66,10.66,10.66,10.66,10.53,10.53,10.53,10.53,10.53,\n",
    "      10.39,10.39,10.39,10.26,10.26,10.26,10.26,10.26,10.13,10.13,10,10,10,10,\n",
    "      10,10,9.87,9.84,9.74,9.74,9.74,9.74,9.67,9.61,9.61,9.61,9.41,9.34,9.34,\n",
    "      9.34,9.28,9.21,9.21,9.08,8.95,8.95,8.82,8.82,8.82,8.68,8.55,8.42,8.29,\n",
    "      8.29,8.16,8.03,7.89,7.89,7.63,7.63,7.5,7.43,7.24,7.11,6.97,6.97,6.84,\n",
    "      6.84,6.84,6.84,6.71,6.71,6.58,6.45,6.32,6.18,5.66,5.39,5.39,5.26,5.26,5.13,\n",
    "      4.61,4.61,4.47,2.63,11.45,13.16,11.05])"
   ]
  },
  {
   "cell_type": "markdown",
   "id": "94c49f20",
   "metadata": {},
   "source": [
    "### Question 1 : Donner une estimation de la moyenne \"muEstim\", de la variance \"varEstim\" de la loi suivie par les $X_i$."
   ]
  },
  {
   "cell_type": "code",
   "execution_count": 229,
   "id": "f4d4a1f6",
   "metadata": {},
   "outputs": [],
   "source": []
  },
  {
   "cell_type": "markdown",
   "id": "27217232",
   "metadata": {},
   "source": [
    "### Question 2 : Les valeurs numériques \"muEstim\" et \"varEstim\" sont-elles cohérentes avec la question 2B de la préparation ?"
   ]
  },
  {
   "cell_type": "markdown",
   "id": "bf62238f",
   "metadata": {},
   "source": []
  },
  {
   "cell_type": "markdown",
   "id": "49987557",
   "metadata": {},
   "source": [
    "### Question 3 : Créer une fonction \"skewnessEmp\" et une fonction \"kurtosisEmp\" permettant de calculer respectivement les estimateurs empiriques du coefficient d'asymétrie et du kurtosis pour une liste de données $X$ en entrée. Générer une estimation \"skewnessEstim\" et une estimation \"kurtosisEstim\" de ces deux coefficients pour la liste \"data\". Comparer les valeurs théoriques du kurtosis et du coefficient d'asymétrie trouvées à la première question de la préparation."
   ]
  },
  {
   "cell_type": "code",
   "execution_count": null,
   "id": "72c0ac7a",
   "metadata": {},
   "outputs": [],
   "source": []
  },
  {
   "cell_type": "markdown",
   "id": "cda6b4c2",
   "metadata": {},
   "source": [
    "### Question 4 : Représenter la liste \"data\" via un histogramme. Que dire une fois de plus en comparaison avec une loi normale ?"
   ]
  },
  {
   "cell_type": "code",
   "execution_count": null,
   "id": "5b3241b8",
   "metadata": {},
   "outputs": [],
   "source": []
  },
  {
   "cell_type": "markdown",
   "id": "02e90b91",
   "metadata": {},
   "source": [
    "### Question 5 : Superposer la densité de la loi normale de moyenne \"muEstim\" et de variance \"varEstim\" à l'histogramme précédent. Commenter"
   ]
  },
  {
   "cell_type": "code",
   "execution_count": null,
   "id": "8f7bd8a6",
   "metadata": {},
   "outputs": [],
   "source": []
  },
  {
   "cell_type": "markdown",
   "id": "d857fd17",
   "metadata": {},
   "source": [
    "### Question 6 : Créer une fonction \"fR(x)\" qui renvoie la valeur de la fonction de répartition d'une loi normale de moyenne \"muEstim\" et de variance \"varEstim\" en $x$. On pourra utiliser le calcul d'intégrale par la fonction \"quad\" de \"scipy.integrate\"."
   ]
  },
  {
   "cell_type": "code",
   "execution_count": 38,
   "id": "0bc9f51d",
   "metadata": {},
   "outputs": [],
   "source": [
    "def fR(x):\n",
    "    "
   ]
  },
  {
   "cell_type": "markdown",
   "id": "668135ca",
   "metadata": {},
   "source": [
    "### Question 7 : Représenter \"fR\" sur un intervalle de votre choix. Commenter l'intervalle choisi."
   ]
  },
  {
   "cell_type": "code",
   "execution_count": null,
   "id": "ce1aa027",
   "metadata": {},
   "outputs": [],
   "source": []
  },
  {
   "cell_type": "markdown",
   "id": "f31765ac",
   "metadata": {},
   "source": [
    "### Question 8 : Créer les listes \"effObs\" et \"effTh\" qui contiennent respectivement les effectifs observés et théoriques. Vous pouvez pour ce faire, créer une fonction \"effectif(X,nb_classes)\" qui compte le nombre de valeurs de $X$ dans chaque classe (les classes allant de $0$ à $20$)."
   ]
  },
  {
   "cell_type": "code",
   "execution_count": 153,
   "id": "4623c54f",
   "metadata": {},
   "outputs": [],
   "source": [
    "# Pour compter le nombre de valeurs dans chaque classe (les classes vont de 0 à 20)\n",
    "def effectif(X,nb_classes):\n",
    "    \n",
    "                "
   ]
  },
  {
   "cell_type": "code",
   "execution_count": null,
   "id": "d4070b8e",
   "metadata": {},
   "outputs": [],
   "source": []
  },
  {
   "cell_type": "markdown",
   "id": "c95dc524",
   "metadata": {},
   "source": [
    "### Question 9 : Créer une fonction \"regroupeGauche(liste,k)\" qui prend en entrée une liste et un entier positif $k$ et retourne la liste obtenue en regroupant et en sommant les $k$ premiers éléments de la liste. "
   ]
  },
  {
   "cell_type": "code",
   "execution_count": 56,
   "id": "a82b4f7b",
   "metadata": {},
   "outputs": [],
   "source": [
    "def regroupeGauche(liste,k):\n",
    "    \n",
    "        "
   ]
  },
  {
   "cell_type": "code",
   "execution_count": null,
   "id": "103870c0",
   "metadata": {},
   "outputs": [],
   "source": []
  },
  {
   "cell_type": "code",
   "execution_count": null,
   "id": "b939b05e",
   "metadata": {},
   "outputs": [],
   "source": []
  },
  {
   "cell_type": "markdown",
   "id": "d1d56264",
   "metadata": {},
   "source": [
    "### Question 10 : Faire de même à droite en créant la fonction \"regroupeDroite(liste,k)\"."
   ]
  },
  {
   "cell_type": "code",
   "execution_count": 171,
   "id": "2f76506f",
   "metadata": {},
   "outputs": [],
   "source": [
    "def regroupeDroite(liste,k):\n",
    "    "
   ]
  },
  {
   "cell_type": "markdown",
   "id": "498a8c12",
   "metadata": {},
   "source": [
    "### Question 11 : En utilisant les fonctions précédentes, effectuer un regroupement de classes de sorte à ce que tous les effectifs théoriques soient plus grand que $5$. On nommera \"effThBis\" et \"effObsBis\" les nouveaux effectifs théoriques et observés."
   ]
  },
  {
   "cell_type": "code",
   "execution_count": null,
   "id": "630ef260",
   "metadata": {},
   "outputs": [],
   "source": []
  },
  {
   "cell_type": "markdown",
   "id": "7078182d",
   "metadata": {},
   "source": [
    "### Question 12 : Calculer la distance de $\\chi^2$ entre \"effObsBis\" et \"effThBis\". "
   ]
  },
  {
   "cell_type": "code",
   "execution_count": null,
   "id": "c05aba11",
   "metadata": {},
   "outputs": [],
   "source": []
  },
  {
   "cell_type": "markdown",
   "id": "e9b3e4f9",
   "metadata": {},
   "source": [
    "### Question 13 : Conclure quant à l'adéquation de \"data\" à une loi normale pour un risque de première espèce à $5\\%$. On précisera le nombre de degrés de liberté du problème et on calculera la valeur critique de ce test (unilatéral gauche). "
   ]
  },
  {
   "cell_type": "code",
   "execution_count": null,
   "id": "84b98055",
   "metadata": {},
   "outputs": [],
   "source": []
  },
  {
   "cell_type": "code",
   "execution_count": null,
   "id": "965fa871",
   "metadata": {},
   "outputs": [],
   "source": []
  },
  {
   "cell_type": "markdown",
   "id": "7f7c32f6",
   "metadata": {},
   "source": [
    "### Prise en compte de l'asymétrie"
   ]
  },
  {
   "cell_type": "markdown",
   "id": "b2cd1aa9",
   "metadata": {},
   "source": [
    "### Question 14 : Définir une fonction \"skewnorm(x,e,w,a)\" qui donne la densité en $x$ d'une loi normale asymétrique de moyenne $e$, de variance $w$ et de coefficient d'asymétrie $a$ (compiler le code ci-dessous). Représenter cette densité avec par exemple $e=0, w=1$ et $a=4$."
   ]
  },
  {
   "cell_type": "code",
   "execution_count": 88,
   "id": "c85c2e63",
   "metadata": {},
   "outputs": [],
   "source": [
    "def pdf(x):\n",
    "    return 1/np.sqrt(2*np.pi) * np.exp(-x**2/2)\n",
    "def cdf(x):\n",
    "    return (1 + erf(x/np.sqrt(2))) / 2\n",
    "\n",
    "def skewnorm(x,m,s,a):\n",
    "    t = (x-m) / s\n",
    "    return 2 / s * pdf(t) * cdf(a*t)"
   ]
  },
  {
   "cell_type": "code",
   "execution_count": null,
   "id": "6e1a442e",
   "metadata": {},
   "outputs": [],
   "source": []
  },
  {
   "cell_type": "markdown",
   "id": "42443bea",
   "metadata": {},
   "source": []
  },
  {
   "cell_type": "markdown",
   "id": "dc96a7fa",
   "metadata": {},
   "source": [
    "### Question 15 : Créer une fonction \"logvraissemblance(m,s,a)\" qui donne la $\\mathrm{log}$-vraissemblance de l'échantillon \"data\" pour le modèle de la loi normale asymétrique."
   ]
  },
  {
   "cell_type": "code",
   "execution_count": 96,
   "id": "cdcdd794",
   "metadata": {},
   "outputs": [],
   "source": [
    "def logvraissemblance(m,s,a):\n"
   ]
  },
  {
   "cell_type": "markdown",
   "id": "1eceed39",
   "metadata": {},
   "source": [
    "### Question 16 : Déterminer les estimations du maximum de vraissemblance \"mEstim\", \"sEstim\" et \"aEstim\" des paramètres \"m,s,a\" (compiler le code de la cellule qui suit pour ce faire). Supperposer la densité de cette loi normale asymétrique à l'histogramme de \"data\"."
   ]
  },
  {
   "cell_type": "code",
   "execution_count": null,
   "id": "72119923",
   "metadata": {},
   "outputs": [],
   "source": [
    "mtest=np.arange(5,15,0.1) #le pas est très important ici car la compléxité est très grande\n",
    "stest=np.arange(1,8,0.1)  #Si vous tester 0.01, cela va prendre du temps !!\n",
    "atest=np.arange(0,3,0.1)\n",
    "\n",
    "Res=[]\n",
    "MSA=[]\n",
    "for i in range(len(mtest)):\n",
    "    for j in range(len(stest)):\n",
    "        for k in range(len(atest)):\n",
    "            Res.append(logvraissemblance(mtest[i],stest[j],atest[k]))\n",
    "            MSA.append([mtest[i],stest[j],atest[k]])\n",
    "\n",
    "Max=max(Res)\n",
    "Argmax=np.argmax(Res)\n",
    "[mEstim,sEstim,aEstim]=MSA[Argmax]\n",
    "\n",
    "print(\"mEstim=\",mEstim)\n",
    "print(\"sEstim=\",sEstim)\n",
    "print(\"aEstim=\",aEstim)\n"
   ]
  },
  {
   "cell_type": "code",
   "execution_count": null,
   "id": "84c62cc8",
   "metadata": {},
   "outputs": [],
   "source": []
  },
  {
   "cell_type": "code",
   "execution_count": null,
   "id": "14f54134",
   "metadata": {},
   "outputs": [],
   "source": []
  },
  {
   "cell_type": "markdown",
   "id": "b3ac063f",
   "metadata": {},
   "source": [
    "### Question 17 : Superposer l'histogramme de la question $4$ avec celui de la densité de la loi normale asymétrique de paramètres \"mEstim, sEstim, aEstim\". Commenter."
   ]
  },
  {
   "cell_type": "code",
   "execution_count": null,
   "id": "31f29593",
   "metadata": {},
   "outputs": [],
   "source": []
  },
  {
   "cell_type": "code",
   "execution_count": null,
   "id": "9525fcce",
   "metadata": {},
   "outputs": [],
   "source": []
  },
  {
   "cell_type": "markdown",
   "id": "3feeacb1",
   "metadata": {},
   "source": [
    "### Question 18 : Effectuer le test du $\\chi^2$ d'adéquation de \"data\" à une loi normale asymétrique et conclure."
   ]
  },
  {
   "cell_type": "code",
   "execution_count": null,
   "id": "e650c4be",
   "metadata": {},
   "outputs": [],
   "source": []
  },
  {
   "cell_type": "code",
   "execution_count": null,
   "id": "2ada9abc",
   "metadata": {},
   "outputs": [],
   "source": []
  },
  {
   "cell_type": "code",
   "execution_count": null,
   "id": "64c07b7e",
   "metadata": {},
   "outputs": [],
   "source": []
  },
  {
   "cell_type": "code",
   "execution_count": null,
   "id": "beb27170",
   "metadata": {},
   "outputs": [],
   "source": []
  },
  {
   "cell_type": "markdown",
   "id": "9c274983",
   "metadata": {},
   "source": [
    "### Indépendance de deux caractères"
   ]
  },
  {
   "cell_type": "code",
   "execution_count": 121,
   "id": "f54272e7",
   "metadata": {},
   "outputs": [],
   "source": [
    "dataFemmes=[19.9,18.22,17.63,17.63,16.32,15.66,15.66,15.66,15.39,15.39,15.26,15,14.87,\n",
    "            14.61,14.08,13.68,13.42,13.42,13.29,13.16,12.89,12.89,12.76,12.76,12.76,\n",
    "            12.37,12.24,12.24,12.24,12.24,11.84,11.05,10.66,10.39,10.39,10.26,10,9.61,\n",
    "            9.08,7.5,6.84]\n",
    "dataHommes=[19.9,19.9,19.14,18.55,18.55,\n",
    "            18.42,18.29,18.16,17.83,17.37,17.24,16.84,16.18,16.18,16.18,16.05,15.92,\n",
    "            15.92,15.79,15.79,15.66,15.66,15.53,15.53,15.39,15.39,15.13,15.13,15,15,\n",
    "            15,14.93,14.74,14.74,14.61,14.61,14.61,14.34,14.21,14.21,14.08,14.08,14.08,\n",
    "            14.08,13.95,13.82,13.82,13.82,13.62,13.55,13.42,13.16,13.16,12.89,12.89,\n",
    "            12.89,12.89,12.76,12.63,12.5,12.5,12.5,12.5,12.43,12.37,12.37,12.24,12.24,\n",
    "            12.11,12.11,12.11,12.11,11.97,11.97,11.84,11.84,11.84,11.84,11.58,11.58,\n",
    "            11.58,11.58,11.58,11.45,11.45,11.25,11.25,11.25,11.18,11.18,11.05,10.92,\n",
    "            10.92,10.83,10.79,10.79,10.66,10.66,10.66,10.53,10.53,10.53,10.53,10.53,\n",
    "            10.39,10.26,10.26,10.26,10.26,10.13,10.13,10,10,10,10,10,9.87,9.84,9.74,\n",
    "            9.74,9.74,9.74,9.67,9.61,9.61,9.41,9.34,9.34,9.34,9.28,9.21,9.21,8.95,8.95,\n",
    "            8.82,8.82,8.82,8.68,8.55,8.42,8.29,8.29,8.16,8.03,7.89,7.89,7.63,7.63,7.43,\n",
    "            7.24,7.11,6.97,6.97,6.84,6.84,6.84,6.71,6.71,6.58,6.45,6.32,6.18,5.66,\n",
    "            5.39,5.39,5.26,5.26,5.13,4.61,4.61,4.47,2.63,11.45,13.16,11.05]"
   ]
  },
  {
   "cell_type": "markdown",
   "id": "28d04439",
   "metadata": {},
   "source": [
    "### Question 19 : Créer la matrice de contingence des fréquences observées et celle des fréquences théoriques sous l'hypothèse d'indépendance. Les classes seront les suivantes. \\begin{align*}\n",
    "[0,10.5[;[10.5,13[;[13,15[;[15,16[,[16,20].\\end{align*}\n",
    "### Calculer la distance du $\\chi^2$ de ce test d'indépendance, puis conclure (test unilatéral gauche) en précisant la valeur critique et le nombre de degrés de liberté au seuil de risque de première espèce de $5\\%$."
   ]
  },
  {
   "cell_type": "code",
   "execution_count": null,
   "id": "f5f6162a",
   "metadata": {},
   "outputs": [],
   "source": []
  },
  {
   "cell_type": "code",
   "execution_count": null,
   "id": "bce803fb",
   "metadata": {},
   "outputs": [],
   "source": []
  },
  {
   "cell_type": "code",
   "execution_count": null,
   "id": "dc7dc58d",
   "metadata": {},
   "outputs": [],
   "source": []
  },
  {
   "cell_type": "code",
   "execution_count": null,
   "id": "152489e2",
   "metadata": {},
   "outputs": [],
   "source": []
  },
  {
   "cell_type": "code",
   "execution_count": null,
   "id": "3cac149f",
   "metadata": {},
   "outputs": [],
   "source": []
  }
 ],
 "metadata": {
  "kernelspec": {
   "display_name": "Python 3 (ipykernel)",
   "language": "python",
   "name": "python3"
  },
  "language_info": {
   "codemirror_mode": {
    "name": "ipython",
    "version": 3
   },
   "file_extension": ".py",
   "mimetype": "text/x-python",
   "name": "python",
   "nbconvert_exporter": "python",
   "pygments_lexer": "ipython3",
   "version": "3.11.5"
  }
 },
 "nbformat": 4,
 "nbformat_minor": 5
}
